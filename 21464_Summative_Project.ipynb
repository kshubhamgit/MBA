{
  "nbformat": 4,
  "nbformat_minor": 0,
  "metadata": {
    "colab": {
      "provenance": []
    },
    "kernelspec": {
      "name": "python3",
      "display_name": "Python 3"
    },
    "language_info": {
      "name": "python"
    }
  },
  "cells": [
    {
      "cell_type": "markdown",
      "source": [
        "Step 1: Import the necessary libraries\n",
        "\n",
        "We'll start by importing the necessary libraries for data manipulation, visualization, and modeling."
      ],
      "metadata": {
        "id": "7JvrJIKLEqxj"
      }
    },
    {
      "cell_type": "code",
      "source": [
        "import pandas as pd\n",
        "import numpy as np\n",
        "import matplotlib.pyplot as plt\n",
        "from sklearn.model_selection import train_test_split\n",
        "from sklearn.linear_model import LinearRegression, LogisticRegression\n",
        "from sklearn.tree import DecisionTreeClassifier, DecisionTreeRegressor\n",
        "from sklearn.metrics import mean_squared_error, r2_score, accuracy_score\n",
        "  "
      ],
      "metadata": {
        "id": "Y-1Ltp_JEs9F"
      },
      "execution_count": 1,
      "outputs": []
    },
    {
      "cell_type": "markdown",
      "source": [
        "Step 2: Load the dataset\n",
        "\n",
        "Next, we'll load the \"Wine Quality\" dataset from the UCI Machine Learning Repository."
      ],
      "metadata": {
        "id": "QfwuP-RcFCvN"
      }
    },
    {
      "cell_type": "code",
      "source": [
        "url = \"https://archive.ics.uci.edu/ml/machine-learning-databases/wine-quality/winequality-red.csv\"\n",
        "data = pd.read_csv(url, delimiter=';')\n"
      ],
      "metadata": {
        "id": "vvNPdv4qFET5"
      },
      "execution_count": 2,
      "outputs": []
    },
    {
      "cell_type": "markdown",
      "source": [
        "Step 3: Exploratory Data Analysis (EDA)\n",
        "\n",
        "We'll now perform some exploratory data analysis (EDA) on the dataset to get an understanding of the data."
      ],
      "metadata": {
        "id": "1idRZnz7FILV"
      }
    },
    {
      "cell_type": "code",
      "source": [
        "# Check the first few rows of the dataset\n",
        "print(data.head())\n",
        "\n",
        "# Check the shape of the dataset\n",
        "print(data.shape)\n",
        "\n",
        "# Check for missing values\n",
        "print(data.isnull().sum())\n",
        "\n",
        "# Check the summary statistics of the dataset\n",
        "print(data.describe())\n",
        "\n",
        "# Check the correlation between variables\n",
        "print(data.corr())\n"
      ],
      "metadata": {
        "colab": {
          "base_uri": "https://localhost:8080/"
        },
        "id": "mRj4f__7FI8Q",
        "outputId": "a18cf5bd-33bd-4d2b-e6be-88a7b9ea041d"
      },
      "execution_count": 3,
      "outputs": [
        {
          "output_type": "stream",
          "name": "stdout",
          "text": [
            "   fixed acidity  volatile acidity  citric acid  residual sugar  chlorides  \\\n",
            "0            7.4              0.70         0.00             1.9      0.076   \n",
            "1            7.8              0.88         0.00             2.6      0.098   \n",
            "2            7.8              0.76         0.04             2.3      0.092   \n",
            "3           11.2              0.28         0.56             1.9      0.075   \n",
            "4            7.4              0.70         0.00             1.9      0.076   \n",
            "\n",
            "   free sulfur dioxide  total sulfur dioxide  density    pH  sulphates  \\\n",
            "0                 11.0                  34.0   0.9978  3.51       0.56   \n",
            "1                 25.0                  67.0   0.9968  3.20       0.68   \n",
            "2                 15.0                  54.0   0.9970  3.26       0.65   \n",
            "3                 17.0                  60.0   0.9980  3.16       0.58   \n",
            "4                 11.0                  34.0   0.9978  3.51       0.56   \n",
            "\n",
            "   alcohol  quality  \n",
            "0      9.4        5  \n",
            "1      9.8        5  \n",
            "2      9.8        5  \n",
            "3      9.8        6  \n",
            "4      9.4        5  \n",
            "(1599, 12)\n",
            "fixed acidity           0\n",
            "volatile acidity        0\n",
            "citric acid             0\n",
            "residual sugar          0\n",
            "chlorides               0\n",
            "free sulfur dioxide     0\n",
            "total sulfur dioxide    0\n",
            "density                 0\n",
            "pH                      0\n",
            "sulphates               0\n",
            "alcohol                 0\n",
            "quality                 0\n",
            "dtype: int64\n",
            "       fixed acidity  volatile acidity  citric acid  residual sugar  \\\n",
            "count    1599.000000       1599.000000  1599.000000     1599.000000   \n",
            "mean        8.319637          0.527821     0.270976        2.538806   \n",
            "std         1.741096          0.179060     0.194801        1.409928   \n",
            "min         4.600000          0.120000     0.000000        0.900000   \n",
            "25%         7.100000          0.390000     0.090000        1.900000   \n",
            "50%         7.900000          0.520000     0.260000        2.200000   \n",
            "75%         9.200000          0.640000     0.420000        2.600000   \n",
            "max        15.900000          1.580000     1.000000       15.500000   \n",
            "\n",
            "         chlorides  free sulfur dioxide  total sulfur dioxide      density  \\\n",
            "count  1599.000000          1599.000000           1599.000000  1599.000000   \n",
            "mean      0.087467            15.874922             46.467792     0.996747   \n",
            "std       0.047065            10.460157             32.895324     0.001887   \n",
            "min       0.012000             1.000000              6.000000     0.990070   \n",
            "25%       0.070000             7.000000             22.000000     0.995600   \n",
            "50%       0.079000            14.000000             38.000000     0.996750   \n",
            "75%       0.090000            21.000000             62.000000     0.997835   \n",
            "max       0.611000            72.000000            289.000000     1.003690   \n",
            "\n",
            "                pH    sulphates      alcohol      quality  \n",
            "count  1599.000000  1599.000000  1599.000000  1599.000000  \n",
            "mean      3.311113     0.658149    10.422983     5.636023  \n",
            "std       0.154386     0.169507     1.065668     0.807569  \n",
            "min       2.740000     0.330000     8.400000     3.000000  \n",
            "25%       3.210000     0.550000     9.500000     5.000000  \n",
            "50%       3.310000     0.620000    10.200000     6.000000  \n",
            "75%       3.400000     0.730000    11.100000     6.000000  \n",
            "max       4.010000     2.000000    14.900000     8.000000  \n",
            "                      fixed acidity  volatile acidity  citric acid  \\\n",
            "fixed acidity              1.000000         -0.256131     0.671703   \n",
            "volatile acidity          -0.256131          1.000000    -0.552496   \n",
            "citric acid                0.671703         -0.552496     1.000000   \n",
            "residual sugar             0.114777          0.001918     0.143577   \n",
            "chlorides                  0.093705          0.061298     0.203823   \n",
            "free sulfur dioxide       -0.153794         -0.010504    -0.060978   \n",
            "total sulfur dioxide      -0.113181          0.076470     0.035533   \n",
            "density                    0.668047          0.022026     0.364947   \n",
            "pH                        -0.682978          0.234937    -0.541904   \n",
            "sulphates                  0.183006         -0.260987     0.312770   \n",
            "alcohol                   -0.061668         -0.202288     0.109903   \n",
            "quality                    0.124052         -0.390558     0.226373   \n",
            "\n",
            "                      residual sugar  chlorides  free sulfur dioxide  \\\n",
            "fixed acidity               0.114777   0.093705            -0.153794   \n",
            "volatile acidity            0.001918   0.061298            -0.010504   \n",
            "citric acid                 0.143577   0.203823            -0.060978   \n",
            "residual sugar              1.000000   0.055610             0.187049   \n",
            "chlorides                   0.055610   1.000000             0.005562   \n",
            "free sulfur dioxide         0.187049   0.005562             1.000000   \n",
            "total sulfur dioxide        0.203028   0.047400             0.667666   \n",
            "density                     0.355283   0.200632            -0.021946   \n",
            "pH                         -0.085652  -0.265026             0.070377   \n",
            "sulphates                   0.005527   0.371260             0.051658   \n",
            "alcohol                     0.042075  -0.221141            -0.069408   \n",
            "quality                     0.013732  -0.128907            -0.050656   \n",
            "\n",
            "                      total sulfur dioxide   density        pH  sulphates  \\\n",
            "fixed acidity                    -0.113181  0.668047 -0.682978   0.183006   \n",
            "volatile acidity                  0.076470  0.022026  0.234937  -0.260987   \n",
            "citric acid                       0.035533  0.364947 -0.541904   0.312770   \n",
            "residual sugar                    0.203028  0.355283 -0.085652   0.005527   \n",
            "chlorides                         0.047400  0.200632 -0.265026   0.371260   \n",
            "free sulfur dioxide               0.667666 -0.021946  0.070377   0.051658   \n",
            "total sulfur dioxide              1.000000  0.071269 -0.066495   0.042947   \n",
            "density                           0.071269  1.000000 -0.341699   0.148506   \n",
            "pH                               -0.066495 -0.341699  1.000000  -0.196648   \n",
            "sulphates                         0.042947  0.148506 -0.196648   1.000000   \n",
            "alcohol                          -0.205654 -0.496180  0.205633   0.093595   \n",
            "quality                          -0.185100 -0.174919 -0.057731   0.251397   \n",
            "\n",
            "                       alcohol   quality  \n",
            "fixed acidity        -0.061668  0.124052  \n",
            "volatile acidity     -0.202288 -0.390558  \n",
            "citric acid           0.109903  0.226373  \n",
            "residual sugar        0.042075  0.013732  \n",
            "chlorides            -0.221141 -0.128907  \n",
            "free sulfur dioxide  -0.069408 -0.050656  \n",
            "total sulfur dioxide -0.205654 -0.185100  \n",
            "density              -0.496180 -0.174919  \n",
            "pH                    0.205633 -0.057731  \n",
            "sulphates             0.093595  0.251397  \n",
            "alcohol               1.000000  0.476166  \n",
            "quality               0.476166  1.000000  \n"
          ]
        }
      ]
    },
    {
      "cell_type": "markdown",
      "source": [
        "Step 4: Data Preparation\n",
        "\n",
        "Next, we'll prepare the data for modeling by splitting it into training and testing datasets."
      ],
      "metadata": {
        "id": "d-HCMj-QFTs1"
      }
    },
    {
      "cell_type": "code",
      "source": [
        "# Convert the quality column into a binary classification problem\n",
        "data[\"good_wine\"] = data[\"quality\"] >= 7\n",
        "\n",
        "# Split the dataset into training and testing sets\n",
        "X = data.drop(['quality', 'good_wine'], axis=1)\n",
        "y = data['quality']\n",
        "X_train, X_test, y_train, y_test = train_test_split(X, y, test_size=0.3, random_state=42)\n",
        "\n",
        "# Split the binary classification dataset into training and testing sets\n",
        "X_c = data.drop(['quality', 'good_wine'], axis=1)\n",
        "y_c = data['good_wine']\n",
        "X_train_c, X_test_c, y_train_c, y_test_c = train_test_split(X_c, y_c, test_size=0.3, random_state=42)\n"
      ],
      "metadata": {
        "id": "7aFzuts9FUVB"
      },
      "execution_count": 4,
      "outputs": []
    },
    {
      "cell_type": "markdown",
      "source": [
        "Step 5: Modeling and Evaluation\n",
        "\n",
        "We'll now implement and evaluate linear regression, decision tree, and logistic regression models on the prepared datasets.\n",
        "##Linear Regression"
      ],
      "metadata": {
        "id": "JU58BmewFXdI"
      }
    },
    {
      "cell_type": "code",
      "source": [
        "# Train the model\n",
        "lr_model = LinearRegression()\n",
        "lr_model.fit(X_train, y_train)\n",
        "\n",
        "# Make predictions on the test set\n",
        "y_pred = lr_model.predict(X_test)\n",
        "\n",
        "# Evaluate the model\n",
        "print(\"Linear Regression Model\")\n",
        "print(\"Mean Squared Error:\", mean_squared_error(y_test, y_pred))\n",
        "print(\"R^2 Score:\", r2_score(y_test, y_pred))\n"
      ],
      "metadata": {
        "colab": {
          "base_uri": "https://localhost:8080/"
        },
        "id": "2TK0ai4RFZ8B",
        "outputId": "f4dd9c16-d0b6-4e5a-f4c3-b4a1d40bbe54"
      },
      "execution_count": 5,
      "outputs": [
        {
          "output_type": "stream",
          "name": "stdout",
          "text": [
            "Linear Regression Model\n",
            "Mean Squared Error: 0.41123487175042034\n",
            "R^2 Score: 0.3513885332505231\n"
          ]
        }
      ]
    },
    {
      "cell_type": "code",
      "source": [
        "##Decision Tree Regression"
      ],
      "metadata": {
        "id": "1PQZWACYFkad"
      },
      "execution_count": null,
      "outputs": []
    },
    {
      "cell_type": "code",
      "source": [
        "# Train the model\n",
        "dt_model = DecisionTreeRegressor(random_state=42)\n",
        "dt_model.fit(X_train, y_train)\n",
        "\n",
        "# Make predictions on the test set\n",
        "y_pred = dt_model.predict(X_test)\n",
        "\n",
        "# Evaluate the model\n",
        "print(\"Decision Tree Regression Model\")\n",
        "print(\"Mean Squared Error:\", mean_squared_error(y_test, y_pred))\n",
        "print(\"R^2 Score:\", r2_score(y_test, y_pred))\n"
      ],
      "metadata": {
        "colab": {
          "base_uri": "https://localhost:8080/"
        },
        "id": "XsxSpYikFmfI",
        "outputId": "5b08044b-d617-4b50-bfc1-7fd93d211a76"
      },
      "execution_count": 6,
      "outputs": [
        {
          "output_type": "stream",
          "name": "stdout",
          "text": [
            "Decision Tree Regression Model\n",
            "Mean Squared Error: 0.625\n",
            "R^2 Score: 0.014232025137083437\n"
          ]
        }
      ]
    },
    {
      "cell_type": "markdown",
      "source": [
        "Logistic Regression"
      ],
      "metadata": {
        "id": "5dB4PZ4FFq8D"
      }
    },
    {
      "cell_type": "code",
      "source": [
        "# Train the model\n",
        "log_model = LogisticRegression()\n",
        "log_model.fit(X_train_c, y_train_c)\n",
        "\n",
        "# Make predictions on the test set\n",
        "y_pred\n"
      ],
      "metadata": {
        "colab": {
          "base_uri": "https://localhost:8080/"
        },
        "id": "6iqReF6-Frpt",
        "outputId": "c643424b-8a4c-4792-ef20-d8cae3d0d338"
      },
      "execution_count": 7,
      "outputs": [
        {
          "output_type": "stream",
          "name": "stderr",
          "text": [
            "/usr/local/lib/python3.9/dist-packages/sklearn/linear_model/_logistic.py:458: ConvergenceWarning: lbfgs failed to converge (status=1):\n",
            "STOP: TOTAL NO. of ITERATIONS REACHED LIMIT.\n",
            "\n",
            "Increase the number of iterations (max_iter) or scale the data as shown in:\n",
            "    https://scikit-learn.org/stable/modules/preprocessing.html\n",
            "Please also refer to the documentation for alternative solver options:\n",
            "    https://scikit-learn.org/stable/modules/linear_model.html#logistic-regression\n",
            "  n_iter_i = _check_optimize_result(\n"
          ]
        },
        {
          "output_type": "execute_result",
          "data": {
            "text/plain": [
              "array([6., 5., 5., 5., 6., 5., 5., 5., 7., 6., 7., 6., 5., 5., 5., 6., 5.,\n",
              "       6., 7., 5., 5., 6., 6., 6., 6., 6., 7., 5., 5., 6., 5., 6., 6., 6.,\n",
              "       5., 5., 7., 6., 5., 6., 5., 7., 6., 5., 6., 6., 6., 7., 5., 6., 5.,\n",
              "       6., 6., 7., 5., 4., 6., 7., 5., 5., 6., 8., 6., 6., 6., 5., 7., 6.,\n",
              "       7., 5., 6., 5., 6., 6., 6., 5., 7., 5., 5., 7., 5., 7., 5., 6., 7.,\n",
              "       7., 5., 6., 7., 6., 6., 6., 4., 5., 5., 5., 5., 6., 5., 5., 3., 5.,\n",
              "       6., 6., 6., 7., 6., 5., 6., 5., 7., 5., 6., 5., 5., 6., 5., 6., 5.,\n",
              "       6., 6., 6., 6., 6., 6., 5., 7., 6., 5., 6., 6., 6., 5., 6., 6., 5.,\n",
              "       5., 6., 4., 6., 7., 7., 6., 4., 6., 5., 6., 6., 5., 5., 6., 6., 6.,\n",
              "       5., 6., 5., 5., 7., 5., 6., 6., 5., 6., 5., 5., 6., 6., 6., 5., 5.,\n",
              "       5., 5., 7., 6., 7., 6., 6., 5., 5., 5., 6., 5., 5., 6., 5., 5., 6.,\n",
              "       5., 7., 6., 5., 5., 5., 6., 5., 5., 3., 6., 6., 7., 5., 6., 7., 5.,\n",
              "       7., 5., 5., 4., 6., 5., 8., 5., 5., 7., 7., 5., 6., 5., 6., 5., 6.,\n",
              "       6., 7., 6., 4., 5., 6., 7., 5., 5., 5., 5., 7., 6., 5., 7., 5., 7.,\n",
              "       6., 5., 5., 5., 5., 7., 6., 7., 5., 5., 7., 5., 5., 5., 5., 6., 6.,\n",
              "       5., 5., 4., 5., 6., 7., 5., 5., 6., 5., 7., 6., 5., 6., 6., 5., 6.,\n",
              "       5., 6., 5., 6., 5., 7., 7., 6., 7., 5., 6., 5., 6., 7., 5., 7., 5.,\n",
              "       6., 6., 7., 7., 6., 5., 6., 5., 7., 7., 6., 5., 5., 6., 3., 6., 6.,\n",
              "       6., 6., 6., 7., 6., 6., 6., 5., 6., 6., 5., 5., 8., 5., 6., 8., 6.,\n",
              "       5., 6., 7., 6., 6., 4., 6., 6., 7., 5., 6., 6., 6., 6., 6., 6., 5.,\n",
              "       7., 7., 4., 6., 6., 6., 6., 6., 6., 5., 5., 6., 5., 6., 6., 6., 5.,\n",
              "       5., 7., 5., 6., 6., 4., 6., 5., 6., 6., 5., 5., 6., 5., 5., 6., 4.,\n",
              "       6., 6., 6., 5., 5., 6., 6., 6., 6., 5., 7., 7., 6., 5., 5., 6., 5.,\n",
              "       5., 6., 6., 6., 6., 6., 5., 5., 7., 5., 5., 6., 5., 6., 6., 6., 6.,\n",
              "       6., 5., 5., 6., 6., 7., 6., 6., 6., 7., 6., 8., 6., 5., 6., 6., 6.,\n",
              "       5., 5., 5., 6., 6., 7., 6., 6., 5., 7., 5., 6., 5., 5., 6., 6., 6.,\n",
              "       7., 5., 5., 5., 5., 5., 6., 5., 5., 7., 5., 5., 5., 6., 7., 4., 6.,\n",
              "       5., 5., 7., 5., 5., 6., 5., 6., 6., 7., 5., 6., 5., 6., 6., 5., 7.,\n",
              "       8., 6., 7., 6.])"
            ]
          },
          "metadata": {},
          "execution_count": 7
        }
      ]
    },
    {
      "cell_type": "markdown",
      "source": [],
      "metadata": {
        "id": "Vja8eKKZFmMm"
      }
    }
  ]
}